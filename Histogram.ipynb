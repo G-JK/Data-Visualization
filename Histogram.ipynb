{
  "nbformat": 4,
  "nbformat_minor": 0,
  "metadata": {
    "colab": {
      "name": "Histogram.ipynb",
      "provenance": []
    },
    "kernelspec": {
      "name": "python3",
      "display_name": "Python 3"
    },
    "language_info": {
      "name": "python"
    }
  },
  "cells": [
    {
      "cell_type": "code",
      "metadata": {
        "id": "XkAiXyzwXhiG"
      },
      "source": [
        "import pandas as pd\n",
        "import matplotlib.pyplot as plt\n",
        "import seaborn as sns\n",
        "sns.set()"
      ],
      "execution_count": 1,
      "outputs": []
    },
    {
      "cell_type": "code",
      "metadata": {
        "id": "lWgsHv2GYHZM"
      },
      "source": [
        "df = pd.read_csv(\"histogram_data.csv\")"
      ],
      "execution_count": 2,
      "outputs": []
    },
    {
      "cell_type": "code",
      "metadata": {
        "colab": {
          "base_uri": "https://localhost:8080/",
          "height": 204
        },
        "id": "11jSDVCjYMzI",
        "outputId": "1aafaf7f-5c52-4cd2-cbae-73cef1c1b1a6"
      },
      "source": [
        "df.head()"
      ],
      "execution_count": 3,
      "outputs": [
        {
          "output_type": "execute_result",
          "data": {
            "text/html": [
              "<div>\n",
              "<style scoped>\n",
              "    .dataframe tbody tr th:only-of-type {\n",
              "        vertical-align: middle;\n",
              "    }\n",
              "\n",
              "    .dataframe tbody tr th {\n",
              "        vertical-align: top;\n",
              "    }\n",
              "\n",
              "    .dataframe thead th {\n",
              "        text-align: right;\n",
              "    }\n",
              "</style>\n",
              "<table border=\"1\" class=\"dataframe\">\n",
              "  <thead>\n",
              "    <tr style=\"text-align: right;\">\n",
              "      <th></th>\n",
              "      <th>ID</th>\n",
              "      <th>Building Type</th>\n",
              "      <th>Year of sale</th>\n",
              "      <th>Month of sale</th>\n",
              "      <th>Type of property</th>\n",
              "      <th>Property #</th>\n",
              "      <th>Area (ft.)</th>\n",
              "      <th>Price</th>\n",
              "    </tr>\n",
              "  </thead>\n",
              "  <tbody>\n",
              "    <tr>\n",
              "      <th>0</th>\n",
              "      <td>1030</td>\n",
              "      <td>1</td>\n",
              "      <td>2005.0</td>\n",
              "      <td>11.0</td>\n",
              "      <td>Apartment</td>\n",
              "      <td>30</td>\n",
              "      <td>743.09</td>\n",
              "      <td>246</td>\n",
              "    </tr>\n",
              "    <tr>\n",
              "      <th>1</th>\n",
              "      <td>1029</td>\n",
              "      <td>1</td>\n",
              "      <td>2005.0</td>\n",
              "      <td>10.0</td>\n",
              "      <td>Apartment</td>\n",
              "      <td>29</td>\n",
              "      <td>756.21</td>\n",
              "      <td>246</td>\n",
              "    </tr>\n",
              "    <tr>\n",
              "      <th>2</th>\n",
              "      <td>2002</td>\n",
              "      <td>2</td>\n",
              "      <td>2007.0</td>\n",
              "      <td>7.0</td>\n",
              "      <td>Apartment</td>\n",
              "      <td>2</td>\n",
              "      <td>587.28</td>\n",
              "      <td>209</td>\n",
              "    </tr>\n",
              "    <tr>\n",
              "      <th>3</th>\n",
              "      <td>2031</td>\n",
              "      <td>2</td>\n",
              "      <td>2007.0</td>\n",
              "      <td>12.0</td>\n",
              "      <td>Apartment</td>\n",
              "      <td>31</td>\n",
              "      <td>1604.75</td>\n",
              "      <td>453</td>\n",
              "    </tr>\n",
              "    <tr>\n",
              "      <th>4</th>\n",
              "      <td>1049</td>\n",
              "      <td>1</td>\n",
              "      <td>2004.0</td>\n",
              "      <td>11.0</td>\n",
              "      <td>Apartment</td>\n",
              "      <td>49</td>\n",
              "      <td>1375.45</td>\n",
              "      <td>467</td>\n",
              "    </tr>\n",
              "  </tbody>\n",
              "</table>\n",
              "</div>"
            ],
            "text/plain": [
              "     ID  Building Type  Year of sale  ...  Property # Area (ft.)  Price\n",
              "0  1030              1        2005.0  ...          30     743.09    246\n",
              "1  1029              1        2005.0  ...          29     756.21    246\n",
              "2  2002              2        2007.0  ...           2     587.28    209\n",
              "3  2031              2        2007.0  ...          31    1604.75    453\n",
              "4  1049              1        2004.0  ...          49    1375.45    467\n",
              "\n",
              "[5 rows x 8 columns]"
            ]
          },
          "metadata": {},
          "execution_count": 3
        }
      ]
    },
    {
      "cell_type": "code",
      "metadata": {
        "colab": {
          "base_uri": "https://localhost:8080/",
          "height": 411
        },
        "id": "QYpRj_40YOnh",
        "outputId": "18333a9e-e8cf-4ac1-83b3-4374f70e7d28"
      },
      "source": [
        "# Histogram\n",
        "sns.set_style(\"white\")\n",
        "plt.figure(figsize=(8,6))\n",
        "plt.hist(df['Price'], bins=8, color='#108A99')\n",
        "plt.title(\"Distribution of Real State Price\", fontsize = 14, weight='bold')\n",
        "plt.xlabel(\"Price in (000' $)\")\n",
        "plt.ylabel(\"Number of Properties\")\n",
        "sns.despine()\n",
        "plt.show()"
      ],
      "execution_count": 5,
      "outputs": [
        {
          "output_type": "display_data",
          "data": {
            "image/png": "[encoded data removed]",
            "text/plain": [
              "<Figure size 576x432 with 1 Axes>"
            ]
          },
          "metadata": {}
        }
      ]
    },
    {
      "cell_type": "code",
      "metadata": {
        "id": "9d32LLhSjgiC"
      },
      "source": [
        ""
      ],
      "execution_count": null,
      "outputs": []
    }
  ]
}